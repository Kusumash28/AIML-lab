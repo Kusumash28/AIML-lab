{
  "cells": [
    {
      "cell_type": "markdown",
      "metadata": {
        "id": "view-in-github",
        "colab_type": "text"
      },
      "source": [
        "<a href=\"https://colab.research.google.com/github/Kusumash28/AIML-lab/blob/main/ID3classification.ipynb\" target=\"_parent\"><img src=\"https://colab.research.google.com/assets/colab-badge.svg\" alt=\"Open In Colab\"/></a>"
      ]
    },
    {
      "cell_type": "code",
      "execution_count": 1,
      "metadata": {
        "id": "NZeckmdOod_E"
      },
      "outputs": [],
      "source": [
        "import pandas as pd\n",
        "from sklearn.tree import DecisionTreeClassifier"
      ]
    },
    {
      "cell_type": "code",
      "execution_count": 2,
      "metadata": {
        "colab": {
          "base_uri": "https://localhost:8080/"
        },
        "id": "MTKE3aJood_H",
        "outputId": "f9e57385-d62f-4023-88e0-b2a0b14935df"
      },
      "outputs": [
        {
          "output_type": "stream",
          "name": "stdout",
          "text": [
            "<class 'pandas.core.frame.DataFrame'>\n",
            "RangeIndex: 101 entries, 0 to 100\n",
            "Data columns (total 18 columns):\n",
            " #   Column       Non-Null Count  Dtype \n",
            "---  ------       --------------  ----- \n",
            " 0   animal_name  101 non-null    object\n",
            " 1   hair         101 non-null    int64 \n",
            " 2   feathers     101 non-null    int64 \n",
            " 3   eggs         101 non-null    int64 \n",
            " 4   milk         101 non-null    int64 \n",
            " 5   airborne     101 non-null    int64 \n",
            " 6   aquatic      101 non-null    int64 \n",
            " 7   predator     101 non-null    int64 \n",
            " 8   toothed      101 non-null    int64 \n",
            " 9   backbone     101 non-null    int64 \n",
            " 10  breathes     101 non-null    int64 \n",
            " 11  venomous     101 non-null    int64 \n",
            " 12  fins         101 non-null    int64 \n",
            " 13  legs         101 non-null    int64 \n",
            " 14  tail         101 non-null    int64 \n",
            " 15  domestic     101 non-null    int64 \n",
            " 16  catsize      101 non-null    int64 \n",
            " 17  class_type   101 non-null    int64 \n",
            "dtypes: int64(17), object(1)\n",
            "memory usage: 14.3+ KB\n"
          ]
        }
      ],
      "source": [
        "dataset = pd.read_csv('/content/zoo.csv') #Consists of 100 entries.\n",
        "dataset.info()"
      ]
    },
    {
      "cell_type": "code",
      "execution_count": 3,
      "metadata": {
        "id": "OXg6HZGood_I"
      },
      "outputs": [],
      "source": [
        "dataset = dataset=dataset.drop('animal_name',axis=1) #Drop animal_name cloumn"
      ]
    },
    {
      "cell_type": "code",
      "execution_count": 6,
      "metadata": {
        "id": "S-JCVy7Lod_J"
      },
      "outputs": [],
      "source": [
        "percentage_of_data = 80\n",
        "train_features = dataset.iloc[:percentage_of_data,:-1]  #first eighty entries are considered for trainging\n",
        "train_labels = dataset.iloc[:percentage_of_data,-1]\n",
        "\n",
        "test_features = dataset.iloc[percentage_of_data:,:-1] #Next twenty entries are considered for testing\n",
        "test_labels = dataset.iloc[percentage_of_data:,-1]"
      ]
    },
    {
      "cell_type": "code",
      "execution_count": 7,
      "metadata": {
        "id": "TUm3xT9Fod_J"
      },
      "outputs": [],
      "source": [
        "#training the model\n",
        "tree_model = DecisionTreeClassifier(criterion = 'entropy') # Creating model\n",
        "fit_tree_model = tree_model.fit(train_features,train_labels) # fit the model to training data"
      ]
    },
    {
      "cell_type": "code",
      "execution_count": 8,
      "metadata": {
        "colab": {
          "base_uri": "https://localhost:8080/"
        },
        "id": "7HRxB9bXod_K",
        "outputId": "b902a942-3347-4d24-9cb6-262b706947b0"
      },
      "outputs": [
        {
          "output_type": "stream",
          "name": "stdout",
          "text": [
            "The predicted labels are:  [3 6 4 2 1 7 4 2 6 5 6 5 4 1 1 2 1 6 1 6 2]\n"
          ]
        }
      ],
      "source": [
        "prediction = fit_tree_model.predict(test_features) # Test the model for prediction\n",
        "print(\"The predicted labels are: \", prediction)"
      ]
    },
    {
      "cell_type": "code",
      "execution_count": 9,
      "metadata": {
        "colab": {
          "base_uri": "https://localhost:8080/"
        },
        "id": "UA05IjuVod_K",
        "outputId": "ed9aaf70-c73b-4341-e419-5e643dd6c0fb"
      },
      "outputs": [
        {
          "output_type": "stream",
          "name": "stdout",
          "text": [
            "The accuracy of the model is:  80.95 %\n"
          ]
        }
      ],
      "source": [
        "# Compute the metrics. Metric used here is accuracy\n",
        "accuracy = (prediction == test_labels).sum() / len(test_labels) # Accuracy of the model\n",
        "print(\"The accuracy of the model is: \", round(accuracy*100,2), \"%\") # Print the accuracy"
      ]
    },
    {
      "cell_type": "code",
      "execution_count": null,
      "metadata": {
        "id": "7GB3i0F2od_K"
      },
      "outputs": [],
      "source": []
    }
  ],
  "metadata": {
    "kernelspec": {
      "display_name": "Python 3",
      "language": "python",
      "name": "python3"
    },
    "language_info": {
      "codemirror_mode": {
        "name": "ipython",
        "version": 3
      },
      "file_extension": ".py",
      "mimetype": "text/x-python",
      "name": "python",
      "nbconvert_exporter": "python",
      "pygments_lexer": "ipython3",
      "version": "3.13.2"
    },
    "colab": {
      "provenance": [],
      "include_colab_link": true
    }
  },
  "nbformat": 4,
  "nbformat_minor": 0
}
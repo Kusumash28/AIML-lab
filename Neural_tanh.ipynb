{
  "cells": [
    {
      "cell_type": "markdown",
      "metadata": {
        "id": "view-in-github",
        "colab_type": "text"
      },
      "source": [
        "<a href=\"https://colab.research.google.com/github/Kusumash28/AIML-lab/blob/main/Neural_tanh.ipynb\" target=\"_parent\"><img src=\"https://colab.research.google.com/assets/colab-badge.svg\" alt=\"Open In Colab\"/></a>"
      ]
    },
    {
      "cell_type": "markdown",
      "id": "2d61c759",
      "metadata": {
        "id": "2d61c759"
      },
      "source": [
        "**Description**\n",
        "Neural Network for NAND gate"
      ]
    },
    {
      "cell_type": "markdown",
      "id": "30ae4889",
      "metadata": {
        "id": "30ae4889"
      },
      "source": [
        "The truth table is dataset <br>\n",
        "A\tB\tY <br>\n",
        "0\t0\t1 <br>\n",
        "0\t1\t1 <br>\n",
        "1\t0\t1 <br>\n",
        "1\t1\t0 <br>\n",
        "\n"
      ]
    },
    {
      "cell_type": "code",
      "execution_count": 1,
      "id": "ef91c418",
      "metadata": {
        "id": "ef91c418"
      },
      "outputs": [],
      "source": [
        "import numpy as np"
      ]
    },
    {
      "cell_type": "code",
      "execution_count": 2,
      "id": "fb674827",
      "metadata": {
        "id": "fb674827"
      },
      "outputs": [],
      "source": [
        "X = np.array([[0, 0], [0, 1], [1, 0], [1, 1]])\n",
        "Y = np.array([[1], [1], [1], [0]])  # XOR problem"
      ]
    },
    {
      "cell_type": "code",
      "execution_count": 3,
      "id": "13d343cb",
      "metadata": {
        "id": "13d343cb"
      },
      "outputs": [],
      "source": [
        "#Tanh function\n",
        "def tanh(x):\n",
        "    return np.tanh(x)\n"
      ]
    },
    {
      "cell_type": "code",
      "execution_count": 4,
      "id": "8028c3b6",
      "metadata": {
        "id": "8028c3b6"
      },
      "outputs": [],
      "source": [
        "#Derivative of tanh function\n",
        "def tanh_derivative(x):\n",
        "    return 1.0 - np.tanh(x) ** 2"
      ]
    },
    {
      "cell_type": "code",
      "execution_count": 5,
      "id": "ba477f3d",
      "metadata": {
        "id": "ba477f3d"
      },
      "outputs": [],
      "source": [
        "epoch = 100000\n",
        "learning_rate = 0.01\n",
        "input_layer_neurons = 2  # number of features\n",
        "hidden_layer_neurons = 3  # number of hidden neurons\n",
        "output_neurons = 1  # number of output neurons"
      ]
    },
    {
      "cell_type": "code",
      "execution_count": 6,
      "id": "b24b517a",
      "metadata": {
        "id": "b24b517a"
      },
      "outputs": [],
      "source": [
        "#initializing weights and biases\n",
        "np.random.seed(0)  # for reproducibility\n",
        "weights_input_hidden = np.random.uniform(size=(input_layer_neurons, hidden_layer_neurons))\n",
        "weights_hidden_output = np.random.uniform(size=(hidden_layer_neurons, output_neurons))\n",
        "bias_hidden = np.random.uniform(size=(1, hidden_layer_neurons))"
      ]
    },
    {
      "cell_type": "code",
      "execution_count": 7,
      "id": "7bff5610",
      "metadata": {
        "id": "7bff5610"
      },
      "outputs": [],
      "source": [
        "#Backpropagation algorithm\n",
        "for epoch in range(epoch):\n",
        "    # Forward propagation\n",
        "    hidden_layer_input = np.dot(X, weights_input_hidden)\n",
        "    hidden_layer_output = tanh(hidden_layer_input)\n",
        "\n",
        "    final_input = np.dot(hidden_layer_output, weights_hidden_output)\n",
        "    final_output = tanh(final_input)\n",
        "\n",
        "    # Backward propagation\n",
        "    error = Y - final_output\n",
        "    d_final_output = error * tanh_derivative(final_output)\n",
        "\n",
        "    error_hidden_layer = d_final_output.dot(weights_hidden_output.T)\n",
        "    d_hidden_layer = error_hidden_layer * tanh_derivative(hidden_layer_output)\n",
        "\n",
        "    # Updating weights and biases\n",
        "    weights_hidden_output += hidden_layer_output.T.dot(d_final_output) * learning_rate\n",
        "    weights_input_hidden += X.T.dot(d_hidden_layer) * learning_rate\n",
        "    bias_hidden += np.sum(d_hidden_layer, axis=0, keepdims=True) * learning_rate\n"
      ]
    },
    {
      "cell_type": "code",
      "execution_count": 8,
      "id": "a208e5ab",
      "metadata": {
        "colab": {
          "base_uri": "https://localhost:8080/"
        },
        "id": "a208e5ab",
        "outputId": "9d9539f7-d6c8-49e1-f208-d4d382970b29"
      },
      "outputs": [
        {
          "output_type": "stream",
          "name": "stdout",
          "text": [
            "Final output after training:\n",
            "[[0.00000000e+00]\n",
            " [9.98949529e-01]\n",
            " [9.99009133e-01]\n",
            " [4.02756437e-04]]\n",
            "Mean Squared Error: 0.2500005618799017\n"
          ]
        }
      ],
      "source": [
        "#print final output\n",
        "print(\"Final output after training:\")\n",
        "print(final_output)\n",
        "\n",
        "# Compute the mean squared error\n",
        "mse = np.mean(np.square(Y - final_output))\n",
        "print(\"Mean Squared Error:\",mse)"
      ]
    },
    {
      "cell_type": "code",
      "execution_count": 9,
      "id": "0dbf76ab",
      "metadata": {
        "colab": {
          "base_uri": "https://localhost:8080/"
        },
        "id": "0dbf76ab",
        "outputId": "e9b88261-35f9-42ac-ee27-9529b4a33ea8"
      },
      "outputs": [
        {
          "output_type": "stream",
          "name": "stdout",
          "text": [
            "Test data: [0, 1]\n",
            "Predicted output: [0.99894954]\n",
            "Actual output: [1]\n"
          ]
        }
      ],
      "source": [
        "#Test the model with new data\n",
        "test_data = [0, 1]\n",
        "hidden_layer_input = np.dot(test_data, weights_input_hidden)\n",
        "hidden_layer_output = tanh(hidden_layer_input)\n",
        "final_input = np.dot(hidden_layer_output, weights_hidden_output)\n",
        "final_output = tanh(final_input)\n",
        "print(\"Test data:\", test_data)\n",
        "print(\"Predicted output:\", final_output)\n",
        "print(\"Actual output:\", Y[1])  # Expected output for XOR(0, 1) is 1"
      ]
    },
    {
      "cell_type": "code",
      "execution_count": 10,
      "id": "0fb661ab",
      "metadata": {
        "colab": {
          "base_uri": "https://localhost:8080/"
        },
        "id": "0fb661ab",
        "outputId": "d3f39480-e91b-48c4-9f6f-be31f6f91760"
      },
      "outputs": [
        {
          "output_type": "stream",
          "name": "stdout",
          "text": [
            "Weights from input to hidden layer:\n",
            "[[-0.81  2.21  1.45]\n",
            " [ 1.77 -1.06  1.82]]\n",
            "Weights from hidden to output layer:\n",
            "[[-3.37]\n",
            " [-2.93]\n",
            " [ 4.91]]\n"
          ]
        }
      ],
      "source": [
        "# Display the weights and biases rounding to 2 decimal places\n",
        "\n",
        "print(\"Weights from input to hidden layer:\")\n",
        "print(np.round(weights_input_hidden, 2))  # Use np.round for NumPy arrays\n",
        "\n",
        "print(\"Weights from hidden to output layer:\")\n",
        "print(np.round(weights_hidden_output, 2))  # Use np.round for NumPy arrays\n"
      ]
    },
    {
      "cell_type": "code",
      "execution_count": 11,
      "id": "577eb53a",
      "metadata": {
        "colab": {
          "base_uri": "https://localhost:8080/",
          "height": 539
        },
        "id": "577eb53a",
        "outputId": "1f2e50e2-a220-426c-c632-94a0a84633cc"
      },
      "outputs": [
        {
          "output_type": "display_data",
          "data": {
            "text/plain": [
              "<Figure size 640x480 with 1 Axes>"
            ],
            "image/png": "[encoded data removed]"
          },
          "metadata": {}
        }
      ],
      "source": [
        "#Plot the netwrork grpahically\n",
        "import matplotlib.pyplot as plt\n",
        "import networkx as nx\n",
        "\n",
        "def plot_neural_network(weights_input_hidden, weights_hidden_output, input_values, hidden_values, output_value):\n",
        "    import matplotlib.pyplot as plt\n",
        "    import networkx as nx\n",
        "\n",
        "    G = nx.DiGraph()\n",
        "\n",
        "    # Input layer\n",
        "    for i in range(input_layer_neurons):\n",
        "        G.add_node(f'Input {i+1}', layer=0, value=input_values[i])  # Assign layer 0 for input nodes\n",
        "\n",
        "    # Hidden layer\n",
        "    for i in range(hidden_layer_neurons):\n",
        "        G.add_node(f'Hidden {i+1}', layer=1, value=hidden_values[i])  # Assign layer 1 for hidden nodes\n",
        "\n",
        "    # Output layer\n",
        "    G.add_node('Output', layer=2, value=output_value)  # Assign layer 2 for output node\n",
        "\n",
        "    # Add edges from input to hidden layer\n",
        "    for i in range(input_layer_neurons):\n",
        "        for j in range(hidden_layer_neurons):\n",
        "            G.add_edge(f'Input {i+1}', f'Hidden {j+1}', weight=round(weights_input_hidden[i][j], 2))\n",
        "\n",
        "    # Add edges from hidden to output layer\n",
        "    for i in range(hidden_layer_neurons):\n",
        "        G.add_edge(f'Hidden {i+1}', 'Output', weight=round(weights_hidden_output[i][0], 2))\n",
        "\n",
        "    # Use multipartite layout with explicit layer ordering\n",
        "    pos = nx.multipartite_layout(G, subset_key=\"layer\")\n",
        "\n",
        "    # Draw the graph\n",
        "    node_labels = {\n",
        "        node: f\"{node}\\n({data['value']:.2f})\" if np.isscalar(data['value']) else f\"{node}\\n({data['value'].item():.2f})\"\n",
        "        for node, data in G.nodes(data=True)\n",
        "    }  # Add node values\n",
        "    edge_labels = {\n",
        "        (u, v): f\"{d['weight']:.2f}\" for u, v, d in G.edges(data=True)\n",
        "    }  # Round edge weights to 2 decimal places\n",
        "\n",
        "    nx.draw(G, pos, with_labels=True, labels=node_labels, node_size=2000, node_color='lightblue', font_size=10)\n",
        "    nx.draw_networkx_edge_labels(\n",
        "        G, pos, edge_labels=edge_labels, font_size=8, label_pos=0.25\n",
        "    )  # Adjust label_pos to avoid overlap\n",
        "    plt.title(\"Neural Network Structure with Node Values\")\n",
        "    plt.show()\n",
        "\n",
        "# Example usage\n",
        "input_values = [0, 1]  # Example input values\n",
        "hidden_layer_input = np.dot(input_values, weights_input_hidden)\n",
        "hidden_values = tanh(hidden_layer_input)  # Hidden layer activations\n",
        "final_input = np.dot(hidden_values, weights_hidden_output)\n",
        "output_value = tanh(final_input)  # Output value\n",
        "\n",
        "plot_neural_network(weights_input_hidden, weights_hidden_output, input_values, hidden_values, output_value)"
      ]
    },
    {
      "cell_type": "code",
      "execution_count": null,
      "id": "722743d7",
      "metadata": {
        "id": "722743d7"
      },
      "outputs": [],
      "source": []
    }
  ],
  "metadata": {
    "kernelspec": {
      "display_name": "Python 3",
      "language": "python",
      "name": "python3"
    },
    "language_info": {
      "codemirror_mode": {
        "name": "ipython",
        "version": 3
      },
      "file_extension": ".py",
      "mimetype": "text/x-python",
      "name": "python",
      "nbconvert_exporter": "python",
      "pygments_lexer": "ipython3",
      "version": "3.13.2"
    },
    "colab": {
      "provenance": [],
      "include_colab_link": true
    }
  },
  "nbformat": 4,
  "nbformat_minor": 5
}
{
  "cells": [
    {
      "cell_type": "markdown",
      "metadata": {
        "id": "view-in-github",
        "colab_type": "text"
      },
      "source": [
        "<a href=\"https://colab.research.google.com/github/Kusumash28/AIML-lab/blob/main/8_puzzle_inversion.ipynb\" target=\"_parent\"><img src=\"https://colab.research.google.com/assets/colab-badge.svg\" alt=\"Open In Colab\"/></a>"
      ]
    },
    {
      "cell_type": "code",
      "execution_count": 1,
      "metadata": {
        "id": "fvZvN_RhKuE3"
      },
      "outputs": [],
      "source": [
        "# A utility function to count\n",
        "# inversions in given array 'arr[]'\n",
        "def getInvCount(arr):\n",
        "\tinv_count = 0\n",
        "\tempty_value = -1\n",
        "\tfor i in range(0, 9):\n",
        "\t\tfor j in range(i + 1, 9):\n",
        "\t\t\tif arr[j] != empty_value and arr[i] != empty_value and arr[i] > arr[j]:\n",
        "\t\t\t\tinv_count += 1\n",
        "\treturn inv_count"
      ]
    },
    {
      "cell_type": "code",
      "execution_count": 2,
      "metadata": {
        "id": "ZqkoQ-SwKuE5"
      },
      "outputs": [],
      "source": [
        "# This function returns true\n",
        "# if given 8 puzzle is solvable.\n",
        "def isSolvable(puzzle) :\n",
        "\n",
        "    # Count inversions in given 8 puzzle\n",
        "    inv_count = getInvCount([j for sub in puzzle for j in sub])\n",
        "    print(\"Total Number of Inversions:\", inv_count)\n",
        "\n",
        "    # return true if inversion count is even.\n",
        "    return (inv_count % 2 == 0)"
      ]
    },
    {
      "cell_type": "code",
      "execution_count": 3,
      "metadata": {
        "colab": {
          "base_uri": "https://localhost:8080/"
        },
        "id": "sdwECplsKuE7",
        "outputId": "b0cc3284-bfff-4430-b0e2-443ef3ca2d09"
      },
      "outputs": [
        {
          "output_type": "stream",
          "name": "stdout",
          "text": [
            "Total Number of Inversions: 14\n",
            "Solvable\n"
          ]
        }
      ],
      "source": [
        "# Main Code\n",
        "test1_puzzle = [[8, 1, 2],[-1, 4, 3],[7, 6, 5]] # -1 represent empty tile, this example is not solvable\n",
        "test2_puzzle = [[5, 2, 8],[4, 1, 7],[-1, 3, 6]] # this example is solvable\n",
        "\n",
        "if(isSolvable(test2_puzzle)) :\n",
        "    print(\"Solvable\")\n",
        "else :\n",
        "    print(\"Not Solvable\")"
      ]
    },
    {
      "cell_type": "code",
      "source": [],
      "metadata": {
        "id": "vgX6Td5uK5ro"
      },
      "execution_count": null,
      "outputs": []
    }
  ],
  "metadata": {
    "kernelspec": {
      "display_name": "Python 3",
      "language": "python",
      "name": "python3"
    },
    "language_info": {
      "codemirror_mode": {
        "name": "ipython",
        "version": 3
      },
      "file_extension": ".py",
      "mimetype": "text/x-python",
      "name": "python",
      "nbconvert_exporter": "python",
      "pygments_lexer": "ipython3",
      "version": "3.13.2"
    },
    "colab": {
      "provenance": [],
      "include_colab_link": true
    }
  },
  "nbformat": 4,
  "nbformat_minor": 0
}
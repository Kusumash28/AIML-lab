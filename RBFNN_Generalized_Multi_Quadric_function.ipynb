{
  "cells": [
    {
      "cell_type": "markdown",
      "metadata": {
        "id": "view-in-github",
        "colab_type": "text"
      },
      "source": [
        "<a href=\"https://colab.research.google.com/github/Kusumash28/AIML-lab/blob/main/RBFNN_Generalized_Multi_Quadric_function.ipynb\" target=\"_parent\"><img src=\"https://colab.research.google.com/assets/colab-badge.svg\" alt=\"Open In Colab\"/></a>"
      ]
    },
    {
      "cell_type": "code",
      "execution_count": 2,
      "id": "de626ca0",
      "metadata": {
        "id": "de626ca0"
      },
      "outputs": [],
      "source": [
        "import numpy as np"
      ]
    },
    {
      "cell_type": "code",
      "execution_count": 3,
      "id": "32db7c8f",
      "metadata": {
        "id": "32db7c8f"
      },
      "outputs": [],
      "source": [
        "# XOR Gate Data\n",
        "X = np.array([[0, 0], [0, 1], [1, 0], [1, 1]])\n",
        "Y = np.array([[0], [1], [1], [0]])  # XOR problem"
      ]
    },
    {
      "cell_type": "code",
      "execution_count": 4,
      "id": "ef0a1a71",
      "metadata": {
        "id": "ef0a1a71"
      },
      "outputs": [],
      "source": [
        "# Generalized multi-quadric function kernal\n",
        "def generalized_multi_quadric(x1, x2, c=1.0, sigma=1.0):\n",
        "    return np.sqrt(np.linalg.norm(x1 - x2) ** 2 + (c * sigma) ** 2)"
      ]
    },
    {
      "cell_type": "code",
      "execution_count": 5,
      "id": "a62317bb",
      "metadata": {
        "id": "a62317bb"
      },
      "outputs": [],
      "source": [
        "# Choose centers using k-means\n",
        "from sklearn.cluster import KMeans\n",
        "\n",
        "kmeans = KMeans(n_clusters=4).fit(X)\n",
        "centers = kmeans.cluster_centers_"
      ]
    },
    {
      "cell_type": "code",
      "execution_count": 6,
      "id": "c91339b2",
      "metadata": {
        "id": "c91339b2"
      },
      "outputs": [],
      "source": [
        "# Calculate the spread parameter\n",
        "\n",
        "from scipy.spatial.distance import cdist\n",
        "d_max = np.max(cdist(centers, centers, 'euclidean'))\n",
        "sigma = d_max / np.sqrt(2 * len(centers))"
      ]
    },
    {
      "cell_type": "code",
      "execution_count": 7,
      "id": "47d2a4f6",
      "metadata": {
        "id": "47d2a4f6"
      },
      "outputs": [],
      "source": [
        "# Compute the RBF layer output\n",
        "R = np.zeros((X.shape[0], len(centers)))\n",
        "for i in range(X.shape[0]):\n",
        "    for j in range(len(centers)):\n",
        "        R[i, j] = generalized_multi_quadric(X[i], centers[j], sigma)\n"
      ]
    },
    {
      "cell_type": "code",
      "execution_count": 8,
      "id": "44ac91f9",
      "metadata": {
        "id": "44ac91f9"
      },
      "outputs": [],
      "source": [
        "# Compute the output weights\n",
        "W = np.dot(np.linalg.pinv(R), Y)"
      ]
    },
    {
      "cell_type": "code",
      "execution_count": 9,
      "id": "11098a20",
      "metadata": {
        "id": "11098a20"
      },
      "outputs": [],
      "source": [
        "# Define the RBF network prediction function\n",
        "def rbf_network(X, centers, sigma, W):\n",
        "    R = np.zeros((X.shape[0], len(centers)))\n",
        "    for i in range(X.shape[0]):\n",
        "        for j in range(len(centers)):\n",
        "            R[i, j] = generalized_multi_quadric(X[i], centers[j], sigma)\n",
        "    return np.dot(R, W)"
      ]
    },
    {
      "cell_type": "code",
      "execution_count": 10,
      "id": "b3d178b7",
      "metadata": {
        "id": "b3d178b7"
      },
      "outputs": [],
      "source": [
        "# Make predictions\n",
        "y_pred = rbf_network(X, centers, sigma, W)"
      ]
    },
    {
      "cell_type": "code",
      "execution_count": 11,
      "id": "f530469d",
      "metadata": {
        "colab": {
          "base_uri": "https://localhost:8080/"
        },
        "id": "f530469d",
        "outputId": "51fe8cf7-e1b9-401e-cab5-e5c4680b9254"
      },
      "outputs": [
        {
          "output_type": "stream",
          "name": "stdout",
          "text": [
            "[[1.55431223e-15]\n",
            " [1.00000000e+00]\n",
            " [1.00000000e+00]\n",
            " [4.44089210e-16]]\n"
          ]
        }
      ],
      "source": [
        "print(y_pred)"
      ]
    },
    {
      "cell_type": "code",
      "execution_count": 12,
      "id": "86812cad",
      "metadata": {
        "colab": {
          "base_uri": "https://localhost:8080/"
        },
        "id": "86812cad",
        "outputId": "378a19dc-0997-418d-8747-1ac3317cc24e"
      },
      "outputs": [
        {
          "output_type": "stream",
          "name": "stdout",
          "text": [
            "Mean Squared Error: 1.0477058897466563e-30\n"
          ]
        }
      ],
      "source": [
        "mse = np.mean(np.square(Y - y_pred))\n",
        "print(\"Mean Squared Error:\",mse)"
      ]
    }
  ],
  "metadata": {
    "kernelspec": {
      "display_name": "Python 3",
      "language": "python",
      "name": "python3"
    },
    "language_info": {
      "codemirror_mode": {
        "name": "ipython",
        "version": 3
      },
      "file_extension": ".py",
      "mimetype": "text/x-python",
      "name": "python",
      "nbconvert_exporter": "python",
      "pygments_lexer": "ipython3",
      "version": "3.13.2"
    },
    "colab": {
      "provenance": [],
      "include_colab_link": true
    }
  },
  "nbformat": 4,
  "nbformat_minor": 5
}
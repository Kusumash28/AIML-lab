{
  "cells": [
    {
      "cell_type": "markdown",
      "metadata": {
        "id": "view-in-github",
        "colab_type": "text"
      },
      "source": [
        "<a href=\"https://colab.research.google.com/github/Kusumash28/AIML-lab/blob/main/DFS.ipynb\" target=\"_parent\"><img src=\"https://colab.research.google.com/assets/colab-badge.svg\" alt=\"Open In Colab\"/></a>"
      ]
    },
    {
      "cell_type": "code",
      "execution_count": 1,
      "id": "8b2dd14d-7628-412c-8672-8871297573f4",
      "metadata": {
        "id": "8b2dd14d-7628-412c-8672-8871297573f4"
      },
      "outputs": [],
      "source": [
        " # Input Graph\n",
        "graph = {\n",
        "'A' : ['B','C'],\n",
        "'B' : ['A','C','D'],\n",
        "'C' : ['A','B','E'],\n",
        "'D' : ['B','E'],\n",
        "'E' : ['C','D']\n",
        "}\n",
        "# Set used to store visited nodes.\n",
        "visitedNodes = list()"
      ]
    },
    {
      "cell_type": "code",
      "execution_count": 2,
      "id": "3634732c-1fe8-4486-a1f8-088392ef0f89",
      "metadata": {
        "id": "3634732c-1fe8-4486-a1f8-088392ef0f89"
      },
      "outputs": [],
      "source": [
        "# function\n",
        "def dfs(visitedNodes, graph, node):\n",
        "\tif node not in visitedNodes:\n",
        "\t\tprint (node,end=\" \")\n",
        "\t\tvisitedNodes.append(node)\n",
        "\t\tfor neighbour in graph[node]:\n",
        "\t\t\tdfs(visitedNodes, graph, neighbour)"
      ]
    },
    {
      "cell_type": "code",
      "execution_count": 3,
      "id": "f0e3e43f-a0e7-432b-a317-a2bdc6854779",
      "metadata": {
        "colab": {
          "base_uri": "https://localhost:8080/"
        },
        "id": "f0e3e43f-a0e7-432b-a317-a2bdc6854779",
        "outputId": "ef439ccb-f1d1-4bf6-b4cf-79a16d0381ca"
      },
      "outputs": [
        {
          "output_type": "stream",
          "name": "stdout",
          "text": [
            "Enter Starting Node(A, B, C, D, or E) :B\n",
            "RESULT :\n",
            "--------------------\n",
            "B A C E D "
          ]
        }
      ],
      "source": [
        "# Driver Code\n",
        "snode = input(\"Enter Starting Node(A, B, C, D, or E) :\").upper()\n",
        "# calling bfs function\n",
        "print(\"RESULT :\")\n",
        "print(\"-\"*20)\n",
        "dfs(visitedNodes, graph, snode)"
      ]
    },
    {
      "cell_type": "code",
      "execution_count": null,
      "id": "23f5ed84-ca66-48fd-85ee-fe1935a21a03",
      "metadata": {
        "id": "23f5ed84-ca66-48fd-85ee-fe1935a21a03"
      },
      "outputs": [],
      "source": []
    }
  ],
  "metadata": {
    "kernelspec": {
      "display_name": "anaconda-2024.02-py310",
      "language": "python",
      "name": "conda-env-anaconda-2024.02-py310-py"
    },
    "language_info": {
      "codemirror_mode": {
        "name": "ipython",
        "version": 3
      },
      "file_extension": ".py",
      "mimetype": "text/x-python",
      "name": "python",
      "nbconvert_exporter": "python",
      "pygments_lexer": "ipython3",
      "version": "3.10.14"
    },
    "colab": {
      "provenance": [],
      "include_colab_link": true
    }
  },
  "nbformat": 4,
  "nbformat_minor": 5
}